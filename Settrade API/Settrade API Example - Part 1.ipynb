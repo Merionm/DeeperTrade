{
 "cells": [
  {
   "cell_type": "code",
   "execution_count": null,
   "metadata": {},
   "outputs": [],
   "source": [
    "import binascii\n",
    "import base64\n",
    "import requests\n",
    "import json\n",
    "import requests\n",
    "\n",
    "from datetime import datetime\n",
    "from cryptography.hazmat.backends import default_backend\n",
    "from cryptography.hazmat.primitives import hashes\n",
    "from cryptography.hazmat.primitives.asymmetric import ec"
   ]
  },
  {
   "cell_type": "markdown",
   "metadata": {},
   "source": [
    "### Parameter"
   ]
  },
  {
   "cell_type": "code",
   "execution_count": null,
   "metadata": {},
   "outputs": [],
   "source": [
    "app_secret = 'YOUR APP SECRET HERE' #<<<<<<<<<<<<<<<<<<<<<<<<<<<INPUT\n",
    "app_id = 'YOUR APP ID HERE' #<<<<<<<<<<<<<<<<<<<<<<<<<<<<<<<<<<<INPUT\n",
    "\n",
    "broker_id = '063' #Classic Ausiris\n",
    "account_id = 'YOUR ACCOUNT ID HERE' #<<<<<<<<<<<<<<<<<<<<<<<<<<INPUT\n",
    "\n",
    "system_id = 'DERIV' #Derivatives"
   ]
  },
  {
   "cell_type": "markdown",
   "metadata": {},
   "source": [
    "### Endpoint"
   ]
  },
  {
   "cell_type": "code",
   "execution_count": null,
   "metadata": {},
   "outputs": [],
   "source": [
    "#Authentication Management\n",
    "url_auth_login = 'https://open-api.settrade.com/api/oam/v1/{:}/broker-apps/ALGO/login'.format(broker_id)\n",
    "url_auth_refresh = 'https://open-api.settrade.com/api/oam/v1/{:}/broker-apps/ALGO/refresh-token'.format(broker_id)\n",
    "#User Management API\n",
    "url_usr_currentuser = 'http://open-api.settrade.com/api/um/v1/{:}/user/me'.format(broker_id)\n",
    "url_usr_defaultuser = 'http://open-api.settrade.com/api/um/v1/{:}/user/accounts/{:}/default'.format(broker_id, system_id)\n",
    "url_usr_role = 'http://open-api.settrade.com/api/um/v1/{:}/user/roles/{:}'.format(broker_id, system_id)\n",
    "url_usr_traderid = 'http://open-api.settrade.com/api/um/v1/{:}/user/trader-id/{:}'.format(broker_id, system_id)\n",
    "url_usr_listacc = 'http://open-api.settrade.com/api/um/v1/{:}/user/accounts/{:}'.format(broker_id, system_id)\n",
    "url_usr_verify = 'https://open-api.settrade.com/api/um/v1/{:}/user/verify-pin'.format(broker_id)\n",
    "#Derivatives API\n",
    "url_deri_info = 'http://open-api.settrade.com/api/seosd/v1/{:}/accounts/{:}/account-info'.format(broker_id, account_id)"
   ]
  },
  {
   "cell_type": "code",
   "execution_count": null,
   "metadata": {},
   "outputs": [],
   "source": [
    "#Token keeper\n",
    "token = {}"
   ]
  },
  {
   "cell_type": "code",
   "execution_count": null,
   "metadata": {},
   "outputs": [],
   "source": [
    "#Encryption function to get a signature\n",
    "def get_signature(app_secret, app_id, params=''):\n",
    "    #Get timestamp in millisecond and round\n",
    "    timestamp = round(datetime.timestamp(datetime.now())*1000)\n",
    "    #Combind requested content.\n",
    "    content = '{:}.{:}.{:}'.format(app_id, params, timestamp)\n",
    "    #Convert secret key form base64 to integer.\n",
    "    secret_key = int.from_bytes(base64.b64decode(app_secret), 'big')\n",
    "    #Create Private key using SECP256R1 algorithm with secret key.\n",
    "    private_key = ec.derive_private_key(secret_key, ec.SECP256R1(), default_backend())\n",
    "    #Sign content with private key and hashes to SHA256\n",
    "    signature = private_key.sign(content.encode(),ec.ECDSA(hashes.SHA256()))\n",
    "    #Return timestamp, string signature that converted from HEX \n",
    "    return timestamp, binascii.hexlify(signature).decode()"
   ]
  },
  {
   "cell_type": "markdown",
   "metadata": {},
   "source": [
    "### Get Token"
   ]
  },
  {
   "cell_type": "code",
   "execution_count": null,
   "metadata": {},
   "outputs": [],
   "source": [
    "params = '' #Currently, params should be empty.\n",
    "timestamp, signature = get_signature(app_secret, app_id, params=params)\n",
    "\n",
    "#Required header, you can't run without this.\n",
    "headers= { 'Host': 'open-api.settrade.com' }\n",
    "#Required Payload in Json format.\n",
    "payload = {\n",
    "    \"apiKey\": app_id,\n",
    "    \"params\": params,\n",
    "    \"signature\": signature,\n",
    "    \"timestamp\": timestamp\n",
    "}\n",
    "#Post request to endpoint.\n",
    "response = requests.post(url_auth_login, headers=headers, json=payload)\n",
    "#If success, response code must be 200. Otherwise, You got the problem.\n",
    "if response.status_code == 200:\n",
    "     #Keep token to global.\n",
    "    token = response.json()\n",
    "    #Just for beautify display, in production can use only response.json()\n",
    "    print(json.dumps(json.loads(response.text), indent=2)) \n",
    "else:\n",
    "    print('Error Code =', response.status_code)"
   ]
  },
  {
   "cell_type": "markdown",
   "metadata": {},
   "source": [
    "### Refresh Token"
   ]
  },
  {
   "cell_type": "code",
   "execution_count": null,
   "metadata": {},
   "outputs": [],
   "source": [
    "headers= { 'Host': 'open-api.settrade.com' }\n",
    "payload = {\n",
    "    \"apiKey\": app_id,\n",
    "    \"refreshToken\": token['refresh_token'] #Refresh token is located in 'token' variable.\n",
    "}\n",
    "\n",
    "response = requests.post(url_auth_refresh, headers=headers, json=payload)\n",
    "\n",
    "if response.status_code == 200:\n",
    "    token = response.json()\n",
    "    print(json.dumps(json.loads(response.text), indent=2))\n",
    "else:\n",
    "    print('Error Code =', response.status_code)"
   ]
  },
  {
   "cell_type": "markdown",
   "metadata": {},
   "source": [
    "### Get Current User"
   ]
  },
  {
   "cell_type": "code",
   "execution_count": null,
   "metadata": {},
   "outputs": [],
   "source": [
    "headers= {\n",
    "    'Host': 'open-api.settrade.com',\n",
    "    'Authorization': 'Bearer ' + token['access_token'] #Don't forget, access token must be use.\n",
    "}\n",
    "response = requests.get(url_usr_currentuser, headers=headers)\n",
    "\n",
    "if response.status_code == 200:\n",
    "    print(json.dumps(json.loads(response.text), indent=2))\n",
    "else:\n",
    "    print('Error Code =', response.status_code)"
   ]
  },
  {
   "cell_type": "markdown",
   "metadata": {},
   "source": [
    "### Get Default Account By System"
   ]
  },
  {
   "cell_type": "code",
   "execution_count": null,
   "metadata": {},
   "outputs": [],
   "source": [
    "headers= {\n",
    "    'Host': 'open-api.settrade.com',\n",
    "    'Authorization': 'Bearer ' + token['access_token']\n",
    "}\n",
    "response = requests.get(url_usr_defaultuser, headers=headers)\n",
    "\n",
    "if response.status_code == 200:\n",
    "    print(json.dumps(json.loads(response.text), indent=2))\n",
    "else:\n",
    "    print('Error Code =', response.status_code)"
   ]
  },
  {
   "cell_type": "markdown",
   "metadata": {},
   "source": [
    "### Get Role"
   ]
  },
  {
   "cell_type": "code",
   "execution_count": null,
   "metadata": {},
   "outputs": [],
   "source": [
    "headers= {\n",
    "    'Host': 'open-api.settrade.com',\n",
    "    'Authorization': 'Bearer ' + token['access_token']\n",
    "}\n",
    "response = requests.get(url_usr_role, headers=headers)\n",
    "\n",
    "if response.status_code == 200:\n",
    "    print(json.dumps(json.loads(response.text), indent=2))\n",
    "else:\n",
    "    print('Error Code =', response.status_code)"
   ]
  },
  {
   "cell_type": "markdown",
   "metadata": {},
   "source": [
    "### Get Trader ID"
   ]
  },
  {
   "cell_type": "code",
   "execution_count": null,
   "metadata": {},
   "outputs": [],
   "source": [
    "headers= {\n",
    "    'Host': 'open-api.settrade.com',\n",
    "    'Authorization': 'Bearer ' + token['access_token']\n",
    "}\n",
    "response = requests.get(url_usr_traderid, headers=headers)\n",
    "\n",
    "if response.status_code == 200:\n",
    "    print(json.dumps(json.loads(response.text), indent=2))\n",
    "else:\n",
    "    print('Error Code =', response.status_code)"
   ]
  },
  {
   "cell_type": "markdown",
   "metadata": {},
   "source": [
    "### List Accounts"
   ]
  },
  {
   "cell_type": "code",
   "execution_count": null,
   "metadata": {},
   "outputs": [],
   "source": [
    "headers= {\n",
    "    'Host': 'open-api.settrade.com',\n",
    "    'Authorization': 'Bearer ' + token['access_token']\n",
    "}\n",
    "response = requests.get(url_usr_listacc, headers=headers)\n",
    "\n",
    "if response.status_code == 200:\n",
    "    print(json.dumps(json.loads(response.text), indent=2))\n",
    "else:\n",
    "    print('Error Code =', response.status_code)"
   ]
  },
  {
   "cell_type": "markdown",
   "metadata": {},
   "source": [
    "### Verify PIN"
   ]
  },
  {
   "cell_type": "code",
   "execution_count": null,
   "metadata": {},
   "outputs": [],
   "source": [
    "headers= {\n",
    "    'Host': 'open-api.settrade.com',\n",
    "    'Authorization': 'Bearer ' + token['access_token']\n",
    "}\n",
    "\n",
    "payload = {\n",
    "    'PIN': 'YOUR PIN CODE', #<<<<<<<<<<<<<<<<<<<<<<<<<<<<<<<<<<<<<<<<<INPUT\n",
    "    'systemId': 'DERIV' #Just for Derivatives\n",
    "}\n",
    "\n",
    "response = requests.post(url_usr_verify, headers=headers, json=payload)\n",
    "\n",
    "if response.status_code == 200:\n",
    "    print(json.dumps(json.loads(response.text), indent=2))\n",
    "else:\n",
    "    print(response.text, 'Error Code =', response.status_code)"
   ]
  },
  {
   "cell_type": "markdown",
   "metadata": {},
   "source": [
    "### Get  Account Info"
   ]
  },
  {
   "cell_type": "code",
   "execution_count": null,
   "metadata": {},
   "outputs": [],
   "source": [
    "headers= {\n",
    "    'Host': 'open-api.settrade.com',\n",
    "    'Authorization': 'Bearer ' + token['access_token']\n",
    "}\n",
    "response = requests.get(url_deri_info, headers=headers)\n",
    "\n",
    "if response.status_code == 200:\n",
    "    print(json.dumps(json.loads(response.text), indent=2))\n",
    "else:\n",
    "    print('Error Code =', response.status_code)"
   ]
  }
 ],
 "metadata": {
  "kernelspec": {
   "display_name": "Python 3",
   "language": "python",
   "name": "python3"
  },
  "language_info": {
   "codemirror_mode": {
    "name": "ipython",
    "version": 3
   },
   "file_extension": ".py",
   "mimetype": "text/x-python",
   "name": "python",
   "nbconvert_exporter": "python",
   "pygments_lexer": "ipython3",
   "version": "3.7.6"
  }
 },
 "nbformat": 4,
 "nbformat_minor": 4
}
