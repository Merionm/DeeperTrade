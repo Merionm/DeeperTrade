{
 "cells": [
  {
   "cell_type": "code",
   "execution_count": null,
   "metadata": {},
   "outputs": [],
   "source": [
    "import binascii\n",
    "import base64\n",
    "import requests\n",
    "import json\n",
    "import requests\n",
    "\n",
    "from datetime import datetime\n",
    "from cryptography.hazmat.backends import default_backend\n",
    "from cryptography.hazmat.primitives import hashes\n",
    "from cryptography.hazmat.primitives.asymmetric import ec"
   ]
  },
  {
   "cell_type": "markdown",
   "metadata": {},
   "source": [
    "### Parameter"
   ]
  },
  {
   "cell_type": "code",
   "execution_count": null,
   "metadata": {},
   "outputs": [],
   "source": [
    "app_secret = 'YOUR APP SECRET'#<<<<<<<<<<<<<<<<<<<<<<<<<<INPUT\n",
    "app_id = 'YOUR APP ID'#<<<<<<<<<<<<<<<><<<<<<<<<<<<<<<<<<INPUT\n",
    "\n",
    "broker_id = '063' #Classic Ausiris\n",
    "account_id = 'YOUR ACCOUNT ID'#<<<<<<<<<<<<<<<<<<<<<<<<<<INPUT\n",
    "pin = 'YOUR PIN'#<<<<<<<<<<<<<<<<<<<<<<<<<<<<<<<<<<<<<<<<INPUT\n",
    "\n",
    "system_id = 'DERIV' #Derivatives"
   ]
  },
  {
   "cell_type": "markdown",
   "metadata": {},
   "source": [
    "### Endpoint"
   ]
  },
  {
   "cell_type": "code",
   "execution_count": null,
   "metadata": {},
   "outputs": [],
   "source": [
    "#Authentication Management\n",
    "url_auth_login = 'https://open-api.settrade.com/api/oam/v1/{:}/broker-apps/ALGO/login'.format(broker_id)\n",
    "url_auth_refresh = 'https://open-api.settrade.com/api/oam/v1/{:}/broker-apps/ALGO/refresh-token'.format(broker_id)\n",
    "#Derivatives API\n",
    "url_deri_info = 'https://open-api.settrade.com/api/seosd/v1/{:}/accounts/{:}/account-info'.format(broker_id, account_id)\n",
    "url_deri_place = 'https://open-api.settrade.com/api/seosd/v1/{:}/accounts/{:}/orders'.format(broker_id, account_id)\n",
    "url_deri_get_order = 'https://open-api.settrade.com/api/seosd/v1/{:}/accounts/{:}/orders/'.format(broker_id, account_id)\n",
    "url_deri_get_portfolio = 'https://open-api.settrade.com/api/seosd/v1/{:}/accounts/{:}/portfolios'.format(broker_id, account_id)\n",
    "url_deri_list_order = 'https://open-api.settrade.com/api/seosd/v1/{:}/accounts/{:}/orders'.format(broker_id, account_id)\n",
    "url_deri_change_order = 'https://open-api.settrade.com/api/seosd/v1/{:}/accounts/{:}/orders/'.format(broker_id, account_id)\n",
    "url_deri_cancel_multi = 'https://open-api.settrade.com/api/seosd/v1/{:}/accounts/{:}/cancel'.format(broker_id, account_id)\n",
    "url_deri_list_trade = 'https://open-api.settrade.com/api/seosd/v1/{:}/accounts/{:}/trades/'.format(broker_id, account_id)"
   ]
  },
  {
   "cell_type": "code",
   "execution_count": null,
   "metadata": {},
   "outputs": [],
   "source": [
    "#Token keeper\n",
    "token = {}"
   ]
  },
  {
   "cell_type": "code",
   "execution_count": null,
   "metadata": {},
   "outputs": [],
   "source": [
    "#Encryption function to get a signature\n",
    "def get_signature(app_secret, app_id, params=''):\n",
    "    #Get timestamp in millisecond and round\n",
    "    timestamp = round(datetime.timestamp(datetime.now())*1000)\n",
    "    #Combind requested content.\n",
    "    content = '{:}.{:}.{:}'.format(app_id, params, timestamp)\n",
    "    #Convert secret key form base64 to integer.\n",
    "    secret_key = int.from_bytes(base64.b64decode(app_secret), 'big')\n",
    "    #Create Private key using SECP256R1 algorithm with secret key.\n",
    "    private_key = ec.derive_private_key(secret_key, ec.SECP256R1(), default_backend())\n",
    "    #Sign content with private key and hashes to SHA256\n",
    "    signature = private_key.sign(content.encode(),ec.ECDSA(hashes.SHA256()))\n",
    "    #Return timestamp, string signature that converted from HEX \n",
    "    return timestamp, binascii.hexlify(signature).decode()"
   ]
  },
  {
   "cell_type": "markdown",
   "metadata": {},
   "source": [
    "### Get Token"
   ]
  },
  {
   "cell_type": "code",
   "execution_count": null,
   "metadata": {},
   "outputs": [],
   "source": [
    "params = '' #Currently, params should be empty.\n",
    "timestamp, signature = get_signature(app_secret, app_id, params=params)\n",
    "\n",
    "#Required header, you can't run without this.\n",
    "headers= { 'Host': 'open-api.settrade.com' }\n",
    "#Required Payload in Json format.\n",
    "payload = {\n",
    "    \"apiKey\": app_id,\n",
    "    \"params\": params,\n",
    "    \"signature\": signature,\n",
    "    \"timestamp\": timestamp\n",
    "}\n",
    "#Post request to endpoint.\n",
    "response = requests.post(url_auth_login, headers=headers, json=payload)\n",
    "#If success, response code must be 200. Otherwise, You got the problem.\n",
    "if response.status_code == 200:\n",
    "     #Keep token to global.\n",
    "    token = response.json()\n",
    "    #Just for beautify display, in production can use only response.json()\n",
    "    print(json.dumps(json.loads(response.text), indent=2)) \n",
    "else:\n",
    "    print('Error Code =', response.status_code)"
   ]
  },
  {
   "cell_type": "markdown",
   "metadata": {},
   "source": [
    "### Refresh Token"
   ]
  },
  {
   "cell_type": "code",
   "execution_count": null,
   "metadata": {},
   "outputs": [],
   "source": [
    "headers= { 'Host': 'open-api.settrade.com' }\n",
    "payload = {\n",
    "    \"apiKey\": app_id,\n",
    "    \"refreshToken\": token['refresh_token'] #Refresh token is located in 'token' variable.\n",
    "}\n",
    "\n",
    "response = requests.post(url_auth_refresh, headers=headers, json=payload)\n",
    "\n",
    "if response.status_code == 200:\n",
    "    token = response.json()\n",
    "    print(json.dumps(json.loads(response.text), indent=2))\n",
    "else:\n",
    "    print('Error Code =', response.status_code)"
   ]
  },
  {
   "cell_type": "markdown",
   "metadata": {},
   "source": [
    "### Get  Account Info"
   ]
  },
  {
   "cell_type": "code",
   "execution_count": null,
   "metadata": {},
   "outputs": [],
   "source": [
    "headers= {\n",
    "    'Host': 'open-api.settrade.com',\n",
    "    'Authorization': 'Bearer ' + token['access_token']\n",
    "}\n",
    "response = requests.get(url_deri_info, headers=headers)\n",
    "\n",
    "if response.status_code == 200:\n",
    "    print(json.dumps(json.loads(response.text), indent=2))\n",
    "else:\n",
    "    print(response.text, 'Error Code =', response.status_code)"
   ]
  },
  {
   "cell_type": "markdown",
   "metadata": {},
   "source": [
    "### Get  Place Order (LIMIT)"
   ]
  },
  {
   "cell_type": "code",
   "execution_count": null,
   "metadata": {},
   "outputs": [],
   "source": [
    "headers= {\n",
    "    'Host': 'open-api.settrade.com',\n",
    "    'Authorization': 'Bearer ' + token['access_token']\n",
    "}\n",
    "payload = {\n",
    "    \"pin\": pin,\n",
    "    \"position\": \"AUTO\",\n",
    "    \"price\": 850, #<<<<<<<<<<<<<<<<<<<<<<<Price\n",
    "    \"priceType\": \"LIMIT\",#<<<<<<<<<<<<<<<<Limit\n",
    "    \"side\": \"LONG\",\n",
    "    \"symbol\": \"S50M20\",\n",
    "    \"validityType\": \"GOOD_TILL_DAY\",#<<<<<Must be use\n",
    "    \"volume\": 1\n",
    "}\n",
    "\n",
    "response = requests.post(url_deri_place, headers=headers, json=payload)\n",
    "\n",
    "if response.status_code == 200:\n",
    "    print(json.dumps(json.loads(response.text), indent=2))\n",
    "else:\n",
    "    print(response.text, 'Error Code =', response.status_code)"
   ]
  },
  {
   "cell_type": "markdown",
   "metadata": {},
   "source": [
    "### Get  Place Order (Market Price)"
   ]
  },
  {
   "cell_type": "code",
   "execution_count": null,
   "metadata": {},
   "outputs": [],
   "source": [
    "headers= {\n",
    "    'Host': 'open-api.settrade.com',\n",
    "    'Authorization': 'Bearer ' + token['access_token']\n",
    "}\n",
    "payload = {\n",
    "    \"pin\": pin,\n",
    "    \"position\": \"AUTO\",\n",
    "    \"price\": 0,\n",
    "    \"priceType\": \"SPECIAL_MARKET\",#<<<<<<<<<<<<<<<<Market Price\n",
    "    \"side\": \"LONG\",\n",
    "    \"symbol\": \"S50M20\",\n",
    "    \"validityType\": \"GOOD_TILL_DAY\",\n",
    "    \"volume\": 1\n",
    "}\n",
    "\n",
    "response = requests.post(url_deri_place, headers=headers, json=payload)\n",
    "\n",
    "if response.status_code == 200:\n",
    "    print(json.dumps(json.loads(response.text), indent=2))\n",
    "else:\n",
    "    print(response.text, 'Error Code =', response.status_code)"
   ]
  },
  {
   "cell_type": "code",
   "execution_count": null,
   "metadata": {},
   "outputs": [],
   "source": [
    "orderNo = str(response.json()['orderNo'])\n",
    "orderNo"
   ]
  },
  {
   "cell_type": "markdown",
   "metadata": {},
   "source": [
    "### Get  Order"
   ]
  },
  {
   "cell_type": "code",
   "execution_count": null,
   "metadata": {},
   "outputs": [],
   "source": [
    "url = url_deri_get_order + orderNo\n",
    "url"
   ]
  },
  {
   "cell_type": "code",
   "execution_count": null,
   "metadata": {},
   "outputs": [],
   "source": [
    "headers= {\n",
    "    'Host': 'open-api.settrade.com',\n",
    "    'Authorization': 'Bearer ' + token['access_token']\n",
    "}\n",
    "response = requests.get(url, headers=headers)\n",
    "\n",
    "if response.status_code == 200:\n",
    "    print(json.dumps(json.loads(response.text), indent=2))\n",
    "else:\n",
    "    print(response.text, 'Error Code =', response.status_code)"
   ]
  },
  {
   "cell_type": "markdown",
   "metadata": {},
   "source": [
    "### List Order"
   ]
  },
  {
   "cell_type": "code",
   "execution_count": null,
   "metadata": {
    "scrolled": false
   },
   "outputs": [],
   "source": [
    "headers= {\n",
    "    'Host': 'open-api.settrade.com',\n",
    "    'Authorization': 'Bearer ' + token['access_token']\n",
    "}\n",
    "response = requests.get(url_deri_list_order, headers=headers)\n",
    "\n",
    "if response.status_code == 200:\n",
    "    print(json.dumps(json.loads(response.text), indent=2))\n",
    "else:\n",
    "    print(response.text, 'Error Code =', response.status_code)"
   ]
  },
  {
   "cell_type": "markdown",
   "metadata": {},
   "source": [
    "### List Trade"
   ]
  },
  {
   "cell_type": "code",
   "execution_count": null,
   "metadata": {},
   "outputs": [],
   "source": [
    "headers= {\n",
    "    'Host': 'open-api.settrade.com',\n",
    "    'Authorization': 'Bearer ' + token['access_token']\n",
    "}\n",
    "response = requests.get(url_deri_list_trade, headers=headers)\n",
    "\n",
    "if response.status_code == 200:\n",
    "    print(json.dumps(json.loads(response.text), indent=2))\n",
    "else:\n",
    "    print(response.text, 'Error Code =', response.status_code)"
   ]
  },
  {
   "cell_type": "markdown",
   "metadata": {},
   "source": [
    "### Change Order"
   ]
  },
  {
   "cell_type": "code",
   "execution_count": null,
   "metadata": {},
   "outputs": [],
   "source": [
    "url = url_deri_get_order + orderNo + '/change'\n",
    "url"
   ]
  },
  {
   "cell_type": "code",
   "execution_count": null,
   "metadata": {},
   "outputs": [],
   "source": [
    "headers= {\n",
    "    'Host': 'open-api.settrade.com',\n",
    "    'Authorization': 'Bearer ' + token['access_token']\n",
    "}\n",
    "payload = {\n",
    "    \"newPrice\": 800.0,\n",
    "    \"pin\": pin,\n",
    "}\n",
    "\n",
    "response = requests.patch(url, headers=headers, json=payload)\n",
    "\n",
    "if response.status_code == 200:\n",
    "    print('Change order number {:} success.'.format(orderNo))\n",
    "else:\n",
    "    print('Change order fail with error Code =', response.status_code)"
   ]
  },
  {
   "cell_type": "markdown",
   "metadata": {},
   "source": [
    "### Cancel Order"
   ]
  },
  {
   "cell_type": "code",
   "execution_count": null,
   "metadata": {},
   "outputs": [],
   "source": [
    "url = url_deri_get_order + orderNo + '/cancel'\n",
    "url"
   ]
  },
  {
   "cell_type": "code",
   "execution_count": null,
   "metadata": {},
   "outputs": [],
   "source": [
    "headers= {\n",
    "    'Host': 'open-api.settrade.com',\n",
    "    'Authorization': 'Bearer ' + token['access_token']\n",
    "}\n",
    "payload = {\n",
    "    \"pin\": pin,\n",
    "}\n",
    "\n",
    "response = requests.patch(url, headers=headers, json=payload)\n",
    "\n",
    "if response.status_code == 200:\n",
    "    print('Cancel order number {:} success.'.format(orderNo))\n",
    "else:\n",
    "    print('Change order fail with error Code =', response.status_code)"
   ]
  },
  {
   "cell_type": "markdown",
   "metadata": {},
   "source": [
    "### Cancel Multiple Order"
   ]
  },
  {
   "cell_type": "code",
   "execution_count": null,
   "metadata": {},
   "outputs": [],
   "source": [
    "headers= {\n",
    "    'Host': 'open-api.settrade.com',\n",
    "    'Authorization': 'Bearer ' + token['access_token']\n",
    "}\n",
    "payload = {\n",
    "    \"orders\": [\n",
    "        orderNo\n",
    "    ],\n",
    "    \"pin\": pin,\n",
    "}\n",
    "\n",
    "response = requests.patch(url_deri_cancel_multi, headers=headers, json=payload)\n",
    "\n",
    "if response.status_code == 207:\n",
    "    print('Cancel order number {:} success.'.format(orderNo))\n",
    "else:\n",
    "    print('Change order fail with error Code =', response.status_code)"
   ]
  },
  {
   "cell_type": "markdown",
   "metadata": {},
   "source": [
    "### Get Portfolio"
   ]
  },
  {
   "cell_type": "code",
   "execution_count": null,
   "metadata": {},
   "outputs": [],
   "source": [
    "headers= {\n",
    "    'Host': 'open-api.settrade.com',\n",
    "    'Authorization': 'Bearer ' + token['access_token']\n",
    "}\n",
    "response = requests.get(url_deri_get_portfolio, headers=headers)\n",
    "\n",
    "if response.status_code == 200:\n",
    "    print(json.dumps(json.loads(response.text), indent=2))\n",
    "else:\n",
    "    print(response.text, 'Error Code =', response.status_code)"
   ]
  }
 ],
 "metadata": {
  "kernelspec": {
   "display_name": "Python 3",
   "language": "python",
   "name": "python3"
  },
  "language_info": {
   "codemirror_mode": {
    "name": "ipython",
    "version": 3
   },
   "file_extension": ".py",
   "mimetype": "text/x-python",
   "name": "python",
   "nbconvert_exporter": "python",
   "pygments_lexer": "ipython3",
   "version": "3.7.6"
  }
 },
 "nbformat": 4,
 "nbformat_minor": 4
}
